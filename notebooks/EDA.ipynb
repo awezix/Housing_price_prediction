{
 "cells": [
  {
   "cell_type": "code",
   "execution_count": 3,
   "metadata": {},
   "outputs": [],
   "source": [
    "import numpy as np\n",
    "import pandas as pd \n",
    "import seaborn as sns\n",
    "import matplotlib.pyplot as plt\n",
    "%matplotlib inline"
   ]
  },
  {
   "cell_type": "code",
   "execution_count": 4,
   "metadata": {},
   "outputs": [
    {
     "data": {
      "text/html": [
       "<div>\n",
       "<style scoped>\n",
       "    .dataframe tbody tr th:only-of-type {\n",
       "        vertical-align: middle;\n",
       "    }\n",
       "\n",
       "    .dataframe tbody tr th {\n",
       "        vertical-align: top;\n",
       "    }\n",
       "\n",
       "    .dataframe thead th {\n",
       "        text-align: right;\n",
       "    }\n",
       "</style>\n",
       "<table border=\"1\" class=\"dataframe\">\n",
       "  <thead>\n",
       "    <tr style=\"text-align: right;\">\n",
       "      <th></th>\n",
       "      <th>bhk</th>\n",
       "      <th>type</th>\n",
       "      <th>locality</th>\n",
       "      <th>area</th>\n",
       "      <th>price</th>\n",
       "      <th>price_unit</th>\n",
       "      <th>region</th>\n",
       "      <th>status</th>\n",
       "      <th>age</th>\n",
       "    </tr>\n",
       "  </thead>\n",
       "  <tbody>\n",
       "    <tr>\n",
       "      <th>0</th>\n",
       "      <td>3</td>\n",
       "      <td>Apartment</td>\n",
       "      <td>Lak And Hanware The Residency Tower</td>\n",
       "      <td>685</td>\n",
       "      <td>2.50</td>\n",
       "      <td>Cr</td>\n",
       "      <td>Andheri West</td>\n",
       "      <td>Ready to move</td>\n",
       "      <td>New</td>\n",
       "    </tr>\n",
       "    <tr>\n",
       "      <th>1</th>\n",
       "      <td>2</td>\n",
       "      <td>Apartment</td>\n",
       "      <td>Radheya Sai Enclave Building No 2</td>\n",
       "      <td>640</td>\n",
       "      <td>52.51</td>\n",
       "      <td>L</td>\n",
       "      <td>Naigaon East</td>\n",
       "      <td>Under Construction</td>\n",
       "      <td>New</td>\n",
       "    </tr>\n",
       "    <tr>\n",
       "      <th>2</th>\n",
       "      <td>2</td>\n",
       "      <td>Apartment</td>\n",
       "      <td>Romell Serene</td>\n",
       "      <td>610</td>\n",
       "      <td>1.73</td>\n",
       "      <td>Cr</td>\n",
       "      <td>Borivali West</td>\n",
       "      <td>Under Construction</td>\n",
       "      <td>New</td>\n",
       "    </tr>\n",
       "    <tr>\n",
       "      <th>3</th>\n",
       "      <td>2</td>\n",
       "      <td>Apartment</td>\n",
       "      <td>Soundlines Codename Urban Rainforest</td>\n",
       "      <td>876</td>\n",
       "      <td>59.98</td>\n",
       "      <td>L</td>\n",
       "      <td>Panvel</td>\n",
       "      <td>Under Construction</td>\n",
       "      <td>New</td>\n",
       "    </tr>\n",
       "    <tr>\n",
       "      <th>4</th>\n",
       "      <td>2</td>\n",
       "      <td>Apartment</td>\n",
       "      <td>Origin Oriana</td>\n",
       "      <td>659</td>\n",
       "      <td>94.11</td>\n",
       "      <td>L</td>\n",
       "      <td>Mira Road East</td>\n",
       "      <td>Under Construction</td>\n",
       "      <td>New</td>\n",
       "    </tr>\n",
       "  </tbody>\n",
       "</table>\n",
       "</div>"
      ],
      "text/plain": [
       "   bhk       type                              locality  area  price  \\\n",
       "0    3  Apartment   Lak And Hanware The Residency Tower   685   2.50   \n",
       "1    2  Apartment     Radheya Sai Enclave Building No 2   640  52.51   \n",
       "2    2  Apartment                         Romell Serene   610   1.73   \n",
       "3    2  Apartment  Soundlines Codename Urban Rainforest   876  59.98   \n",
       "4    2  Apartment                         Origin Oriana   659  94.11   \n",
       "\n",
       "  price_unit          region              status  age  \n",
       "0         Cr    Andheri West       Ready to move  New  \n",
       "1          L    Naigaon East  Under Construction  New  \n",
       "2         Cr   Borivali West  Under Construction  New  \n",
       "3          L          Panvel  Under Construction  New  \n",
       "4          L  Mira Road East  Under Construction  New  "
      ]
     },
     "execution_count": 4,
     "metadata": {},
     "output_type": "execute_result"
    }
   ],
   "source": [
    "df=pd.read_csv(\"../Datasets/raw_data.csv\")\n",
    "df.head()"
   ]
  },
  {
   "cell_type": "code",
   "execution_count": 5,
   "metadata": {},
   "outputs": [
    {
     "data": {
      "text/plain": [
       "Index(['bhk', 'type', 'locality', 'area', 'price', 'price_unit', 'region',\n",
       "       'status', 'age'],\n",
       "      dtype='object')"
      ]
     },
     "execution_count": 5,
     "metadata": {},
     "output_type": "execute_result"
    }
   ],
   "source": [
    "df.columns"
   ]
  },
  {
   "cell_type": "code",
   "execution_count": 6,
   "metadata": {},
   "outputs": [
    {
     "data": {
      "text/plain": [
       "(76038, 9)"
      ]
     },
     "execution_count": 6,
     "metadata": {},
     "output_type": "execute_result"
    }
   ],
   "source": [
    "df.shape"
   ]
  },
  {
   "cell_type": "code",
   "execution_count": 7,
   "metadata": {},
   "outputs": [
    {
     "name": "stdout",
     "output_type": "stream",
     "text": [
      "<class 'pandas.core.frame.DataFrame'>\n",
      "RangeIndex: 76038 entries, 0 to 76037\n",
      "Data columns (total 9 columns):\n",
      " #   Column      Non-Null Count  Dtype  \n",
      "---  ------      --------------  -----  \n",
      " 0   bhk         76038 non-null  int64  \n",
      " 1   type        76038 non-null  object \n",
      " 2   locality    76038 non-null  object \n",
      " 3   area        76038 non-null  int64  \n",
      " 4   price       76038 non-null  float64\n",
      " 5   price_unit  76038 non-null  object \n",
      " 6   region      76038 non-null  object \n",
      " 7   status      76038 non-null  object \n",
      " 8   age         76038 non-null  object \n",
      "dtypes: float64(1), int64(2), object(6)\n",
      "memory usage: 5.2+ MB\n"
     ]
    }
   ],
   "source": [
    "df.info()"
   ]
  },
  {
   "cell_type": "code",
   "execution_count": 8,
   "metadata": {},
   "outputs": [
    {
     "data": {
      "text/plain": [
       "bhk           0\n",
       "type          0\n",
       "locality      0\n",
       "area          0\n",
       "price         0\n",
       "price_unit    0\n",
       "region        0\n",
       "status        0\n",
       "age           0\n",
       "dtype: int64"
      ]
     },
     "execution_count": 8,
     "metadata": {},
     "output_type": "execute_result"
    }
   ],
   "source": [
    "df.isnull().sum()"
   ]
  },
  {
   "cell_type": "code",
   "execution_count": 9,
   "metadata": {},
   "outputs": [
    {
     "data": {
      "text/plain": [
       "bhk             10\n",
       "type             5\n",
       "locality      9782\n",
       "area          2331\n",
       "price         4729\n",
       "price_unit       2\n",
       "region         228\n",
       "status           2\n",
       "age              3\n",
       "dtype: int64"
      ]
     },
     "execution_count": 9,
     "metadata": {},
     "output_type": "execute_result"
    }
   ],
   "source": [
    "df.nunique()"
   ]
  },
  {
   "cell_type": "code",
   "execution_count": 10,
   "metadata": {},
   "outputs": [
    {
     "data": {
      "text/plain": [
       "np.int64(20312)"
      ]
     },
     "execution_count": 10,
     "metadata": {},
     "output_type": "execute_result"
    }
   ],
   "source": [
    "df.duplicated().sum()"
   ]
  },
  {
   "cell_type": "code",
   "execution_count": 11,
   "metadata": {},
   "outputs": [],
   "source": [
    "df=df.drop_duplicates()"
   ]
  },
  {
   "cell_type": "code",
   "execution_count": 12,
   "metadata": {},
   "outputs": [
    {
     "data": {
      "text/plain": [
       "(55726, 9)"
      ]
     },
     "execution_count": 12,
     "metadata": {},
     "output_type": "execute_result"
    }
   ],
   "source": [
    "df.shape"
   ]
  },
  {
   "cell_type": "code",
   "execution_count": 13,
   "metadata": {},
   "outputs": [
    {
     "name": "stdout",
     "output_type": "stream",
     "text": [
      "bhk categories: [ 3  2  5  1  4  6  9  8 10  7]\n",
      "type categories: ['Apartment' 'Villa' 'Studio Apartment' 'Independent House' 'Penthouse']\n",
      "locality categories: ['Lak And Hanware The Residency Tower' 'Radheya Sai Enclave Building No 2'\n",
      " 'Romell Serene' ... 'Ahuja Prasadam Phase III' 'HBS Marineview'\n",
      " 'Hubtown Serene']\n",
      "price_unit categories: ['Cr' 'L']\n",
      "region categories: ['Andheri West' 'Naigaon East' 'Borivali West' 'Panvel' 'Mira Road East'\n",
      " 'Parel' 'Boisar' 'Santacruz East' 'Badlapur East' 'Fort' 'Badlapur West'\n",
      " 'Khopoli' 'Chembur' 'Jogeshwari West' 'Vasai' 'Kalamboli' 'Powai'\n",
      " 'Ghansoli' 'Thane West' 'Vikhroli' 'Bhiwandi' 'Airoli' 'Ambernath West'\n",
      " 'Borivali East' 'Virar' 'Kharghar' 'Ulwe' 'Kamothe' 'Jogeshwari East'\n",
      " 'Mulund West' 'Palghar' 'Goregaon West' 'Taloja' 'Rasayani'\n",
      " 'Ghatkopar East' 'Ulhasnagar' 'Dombivali' 'Kewale' 'Nala Sopara'\n",
      " 'Goregaon East' 'Kandivali East' 'Kurla' 'Andheri East' 'Dahisar'\n",
      " 'Karanjade' 'Mahim' 'Vashi' 'Malad West' 'Girgaon' 'Dadar West'\n",
      " 'Bandra West' 'Kandivali West' 'Kalyan West' 'Neral' 'Kalyan East'\n",
      " 'Karjat' 'Ghatkopar West' 'Dronagiri' 'Mulund East' 'Navade' 'Ambivali'\n",
      " 'Agripada' 'Owale' 'Ville Parle East' 'Kalwa' 'Khar' 'Santacruz West'\n",
      " 'Nerul' 'Kanjurmarg' 'Vangani' 'Bhayandar East' 'Seawoods' 'Sewri'\n",
      " 'Ambernath East' 'Nilje Gaon' 'Prabhadevi' 'Matunga' 'Lower Parel'\n",
      " 'Titwala' 'Shil Phata' 'Koper Khairane' 'Napeansea Road' 'Bhandup West'\n",
      " 'Koproli' 'Anjurdive' 'Wadala' 'Sion' 'Taloje' 'Cuffe Parade'\n",
      " 'Bhandup East' 'Byculla' 'Tardeo' 'Vasai West' 'Vasai east' 'Malad East'\n",
      " 'Colaba' 'Thane East' 'Nalasopara East' 'Deonar' 'Nahur East' 'Sanpada'\n",
      " 'Sector 21 Kamothe' 'Saphale' 'Kasheli' 'Juinagar' 'Worli' 'Panch Pakhdi'\n",
      " 'Mazagaon' 'Hiranandani Estates' 'Belapur' 'Vichumbe' 'Bandra East'\n",
      " 'Sector 17 Ulwe' 'Sector 23 Ulwe' 'Nalasopara West' 'Mahalaxmi'\n",
      " 'Sector 20 Kamothe' 'Dadar East' 'Sector 19 Kamothe' 'Shahapur'\n",
      " 'Sector 30 Kharghar' 'Asangaon' 'Vikroli East' 'Mira Road'\n",
      " 'Kanjurmarg East' 'Rambaug' 'Sector-12 Kamothe' 'Juhu' 'Ville Parle West'\n",
      " 'Mazgaon' 'Virar East' 'Khar West' 'Sector 8 New panvel' 'Rabale'\n",
      " 'Bhayandar West' 'Sector 20 Ulwe' 'Sector 22 Kamothe' 'Sector 21 Nerul'\n",
      " 'Bandra Kurla Complex' 'Sector 14 Vashi' 'Mumbai Central' 'Virar West'\n",
      " 'Sector 11 Koparkhairane' 'Unnat Nagar' 'Diva' 'Palava' 'Dombivali East'\n",
      " 'Sector-14 Koparkhairane' 'Greater Khanda' 'Sector-35D Kharghar' 'Umroli'\n",
      " 'Sector-9 Ulwe' 'Govandi' 'vile parle west' 'MATUNGA WEST'\n",
      " 'Sector-3 Ulwe' 'kasaradavali thane west' 'Kurla East'\n",
      " 'Pestom Sagar Colony' 'Sector 12 Kharghar' 'Police Colony' 'Dahisar West'\n",
      " 'Marine Lines' 'Sector 19 Kharghar' 'Kalher' 'Hindu Colony'\n",
      " 'Dahisar East' 'Sector 9 Vashi' 'Khardi' 'Babulnath Road'\n",
      " 'Sector 21 Kharghar' 'Dharavi' 'Vasind' 'Tilak Nagar' 'Ashok nagar'\n",
      " 'Antop Hill' 'Peddar Road' 'Kamathipura' 'Usarghar Gaon' 'Ambarnath'\n",
      " 'Patlipada' 'Vevoor' 'Shelu' 'Kurla West' 'Goregaon' 'Naupada' 'Bhoiwada'\n",
      " 'Sector 7 Kharghar' 'Roadpali' 'Sector-9 Kamothe' 'Borivali' 'Badlapur'\n",
      " 'Khanda Colony' 'Dombivli (West)' 'GTB Nagar' 'Bandra' 'kandivali'\n",
      " 'Mahavir Nagar' 'Churchgate' 'Pali Hill' 'Manpada' 'Sector-50 Seawoods'\n",
      " 'Uttan' 'Gauripada' 'Gandhar Nagar' 'Mahim West' 'Warai' 'mumbai'\n",
      " 'Khatiwali' 'Chandivali' 'Mumbra' 'Chembur East' 'Malabar Hill' 'sector'\n",
      " 'Uran' 'Manjarli' 'Ghodbunder Road' 'Mulund' 'Sector 18 Kharghar'\n",
      " 'Palidevad' 'Juhu Scheme' 'Adaigaon' 'Versova' 'Sector-4 New Panvel'\n",
      " 'Pen' 'Sector 6 Kamothe' 'Maneklal Estate' 'L I C Colony']\n",
      "status categories: ['Ready to move' 'Under Construction']\n",
      "age categories: ['New' 'Resale' 'Unknown']\n"
     ]
    }
   ],
   "source": [
    "print(\"bhk categories:\",df['bhk'].unique())\n",
    "print(\"type categories:\",df['type'].unique())\n",
    "print(\"locality categories:\",df['locality'].unique())\n",
    "print(\"price_unit categories:\",df['price_unit'].unique())\n",
    "print(\"region categories:\",df['region'].unique())\n",
    "print(\"status categories:\",df['status'].unique())\n",
    "print(\"age categories:\",df['age'].unique())"
   ]
  },
  {
   "cell_type": "code",
   "execution_count": 14,
   "metadata": {},
   "outputs": [
    {
     "data": {
      "text/plain": [
       "bhk\n",
       "2     23609\n",
       "1     19349\n",
       "3     10109\n",
       "4      2165\n",
       "5       370\n",
       "6        92\n",
       "7        13\n",
       "8         8\n",
       "10        6\n",
       "9         5\n",
       "Name: count, dtype: int64"
      ]
     },
     "execution_count": 14,
     "metadata": {},
     "output_type": "execute_result"
    }
   ],
   "source": [
    "df[\"bhk\"].value_counts()"
   ]
  },
  {
   "cell_type": "markdown",
   "metadata": {},
   "source": [
    "#### removing 8 9 10 bhk rows as it has very few occurences"
   ]
  },
  {
   "cell_type": "code",
   "execution_count": 15,
   "metadata": {},
   "outputs": [],
   "source": [
    "threshold=15\n",
    "bhk_count=df[\"bhk\"].value_counts()\n",
    "rare_bhk=bhk_count[bhk_count <= threshold].index\n",
    "df=df.drop(df[df[\"bhk\"].isin(rare_bhk)].index)"
   ]
  },
  {
   "cell_type": "code",
   "execution_count": 16,
   "metadata": {},
   "outputs": [
    {
     "data": {
      "text/plain": [
       "type\n",
       "Apartment            54751\n",
       "Studio Apartment       728\n",
       "Villa                  153\n",
       "Independent House       59\n",
       "Penthouse                3\n",
       "Name: count, dtype: int64"
      ]
     },
     "execution_count": 16,
     "metadata": {},
     "output_type": "execute_result"
    }
   ],
   "source": [
    "df[\"type\"].value_counts()"
   ]
  },
  {
   "cell_type": "markdown",
   "metadata": {},
   "source": [
    "#### penthouse has only 3 instances out of 750000 records so  we remove them "
   ]
  },
  {
   "cell_type": "code",
   "execution_count": 17,
   "metadata": {},
   "outputs": [],
   "source": [
    "df=df.drop(df[df[\"type\"]==\"Penthouse\"].index)"
   ]
  },
  {
   "cell_type": "code",
   "execution_count": 18,
   "metadata": {},
   "outputs": [
    {
     "data": {
      "text/plain": [
       "locality\n",
       "JP North Barcelona                254\n",
       "Lodha Codename Premier            207\n",
       "Amar Vinay Heritage               196\n",
       "Raj Akshay                        193\n",
       "JP Codename Dream Home Tower B    192\n",
       "                                 ... \n",
       "Sparsh Shanti Sadan                 1\n",
       "Vega Platinum Enclave               1\n",
       "Omkar Puram                         1\n",
       "Reputed Builder Mhalsa Heights      1\n",
       "Reputed Builder Humlog housing      1\n",
       "Name: count, Length: 9776, dtype: int64"
      ]
     },
     "execution_count": 18,
     "metadata": {},
     "output_type": "execute_result"
    }
   ],
   "source": [
    "df[\"locality\"].value_counts()"
   ]
  },
  {
   "cell_type": "code",
   "execution_count": 19,
   "metadata": {},
   "outputs": [],
   "source": [
    "df=df.drop(\"locality\",axis=1)"
   ]
  },
  {
   "cell_type": "code",
   "execution_count": 20,
   "metadata": {},
   "outputs": [
    {
     "data": {
      "text/html": [
       "<div>\n",
       "<style scoped>\n",
       "    .dataframe tbody tr th:only-of-type {\n",
       "        vertical-align: middle;\n",
       "    }\n",
       "\n",
       "    .dataframe tbody tr th {\n",
       "        vertical-align: top;\n",
       "    }\n",
       "\n",
       "    .dataframe thead th {\n",
       "        text-align: right;\n",
       "    }\n",
       "</style>\n",
       "<table border=\"1\" class=\"dataframe\">\n",
       "  <thead>\n",
       "    <tr style=\"text-align: right;\">\n",
       "      <th></th>\n",
       "      <th>bhk</th>\n",
       "      <th>type</th>\n",
       "      <th>area</th>\n",
       "      <th>price</th>\n",
       "      <th>price_unit</th>\n",
       "      <th>region</th>\n",
       "      <th>status</th>\n",
       "      <th>age</th>\n",
       "    </tr>\n",
       "  </thead>\n",
       "  <tbody>\n",
       "    <tr>\n",
       "      <th>0</th>\n",
       "      <td>3</td>\n",
       "      <td>Apartment</td>\n",
       "      <td>685</td>\n",
       "      <td>2.50</td>\n",
       "      <td>Cr</td>\n",
       "      <td>Andheri West</td>\n",
       "      <td>Ready to move</td>\n",
       "      <td>New</td>\n",
       "    </tr>\n",
       "    <tr>\n",
       "      <th>1</th>\n",
       "      <td>2</td>\n",
       "      <td>Apartment</td>\n",
       "      <td>640</td>\n",
       "      <td>52.51</td>\n",
       "      <td>L</td>\n",
       "      <td>Naigaon East</td>\n",
       "      <td>Under Construction</td>\n",
       "      <td>New</td>\n",
       "    </tr>\n",
       "    <tr>\n",
       "      <th>2</th>\n",
       "      <td>2</td>\n",
       "      <td>Apartment</td>\n",
       "      <td>610</td>\n",
       "      <td>1.73</td>\n",
       "      <td>Cr</td>\n",
       "      <td>Borivali West</td>\n",
       "      <td>Under Construction</td>\n",
       "      <td>New</td>\n",
       "    </tr>\n",
       "    <tr>\n",
       "      <th>3</th>\n",
       "      <td>2</td>\n",
       "      <td>Apartment</td>\n",
       "      <td>876</td>\n",
       "      <td>59.98</td>\n",
       "      <td>L</td>\n",
       "      <td>Panvel</td>\n",
       "      <td>Under Construction</td>\n",
       "      <td>New</td>\n",
       "    </tr>\n",
       "    <tr>\n",
       "      <th>4</th>\n",
       "      <td>2</td>\n",
       "      <td>Apartment</td>\n",
       "      <td>659</td>\n",
       "      <td>94.11</td>\n",
       "      <td>L</td>\n",
       "      <td>Mira Road East</td>\n",
       "      <td>Under Construction</td>\n",
       "      <td>New</td>\n",
       "    </tr>\n",
       "  </tbody>\n",
       "</table>\n",
       "</div>"
      ],
      "text/plain": [
       "   bhk       type  area  price price_unit          region              status  \\\n",
       "0    3  Apartment   685   2.50         Cr    Andheri West       Ready to move   \n",
       "1    2  Apartment   640  52.51          L    Naigaon East  Under Construction   \n",
       "2    2  Apartment   610   1.73         Cr   Borivali West  Under Construction   \n",
       "3    2  Apartment   876  59.98          L          Panvel  Under Construction   \n",
       "4    2  Apartment   659  94.11          L  Mira Road East  Under Construction   \n",
       "\n",
       "   age  \n",
       "0  New  \n",
       "1  New  \n",
       "2  New  \n",
       "3  New  \n",
       "4  New  "
      ]
     },
     "execution_count": 20,
     "metadata": {},
     "output_type": "execute_result"
    }
   ],
   "source": [
    "df.head()"
   ]
  },
  {
   "cell_type": "code",
   "execution_count": 21,
   "metadata": {},
   "outputs": [
    {
     "data": {
      "text/plain": [
       "area\n",
       "650     1386\n",
       "1050    1148\n",
       "1100     843\n",
       "600      808\n",
       "750      800\n",
       "        ... \n",
       "2288       1\n",
       "2238       1\n",
       "2707       1\n",
       "2004       1\n",
       "1836       1\n",
       "Name: count, Length: 2321, dtype: int64"
      ]
     },
     "execution_count": 21,
     "metadata": {},
     "output_type": "execute_result"
    }
   ],
   "source": [
    "df[\"area\"].value_counts()"
   ]
  },
  {
   "cell_type": "code",
   "execution_count": 22,
   "metadata": {},
   "outputs": [
    {
     "data": {
      "text/plain": [
       "price_unit\n",
       "Cr    28328\n",
       "L     27363\n",
       "Name: count, dtype: int64"
      ]
     },
     "execution_count": 22,
     "metadata": {},
     "output_type": "execute_result"
    }
   ],
   "source": [
    "df[\"price_unit\"].value_counts()"
   ]
  },
  {
   "cell_type": "code",
   "execution_count": 23,
   "metadata": {},
   "outputs": [],
   "source": [
    "# combining price_unit and price column by multiplying the Cr unit by 100\n",
    "df[\"price_in_lakh\"]=df.apply(lambda x:x[\"price\"]*100 if x[\"price_unit\"]==\"Cr\" else x[\"price\"],axis=1)"
   ]
  },
  {
   "cell_type": "code",
   "execution_count": 24,
   "metadata": {},
   "outputs": [],
   "source": [
    "df=df.drop([\"price\",\"price_unit\"],axis=1)"
   ]
  },
  {
   "cell_type": "code",
   "execution_count": 25,
   "metadata": {},
   "outputs": [
    {
     "data": {
      "text/html": [
       "<div>\n",
       "<style scoped>\n",
       "    .dataframe tbody tr th:only-of-type {\n",
       "        vertical-align: middle;\n",
       "    }\n",
       "\n",
       "    .dataframe tbody tr th {\n",
       "        vertical-align: top;\n",
       "    }\n",
       "\n",
       "    .dataframe thead th {\n",
       "        text-align: right;\n",
       "    }\n",
       "</style>\n",
       "<table border=\"1\" class=\"dataframe\">\n",
       "  <thead>\n",
       "    <tr style=\"text-align: right;\">\n",
       "      <th></th>\n",
       "      <th>bhk</th>\n",
       "      <th>type</th>\n",
       "      <th>area</th>\n",
       "      <th>region</th>\n",
       "      <th>status</th>\n",
       "      <th>age</th>\n",
       "      <th>price_in_lakh</th>\n",
       "    </tr>\n",
       "  </thead>\n",
       "  <tbody>\n",
       "    <tr>\n",
       "      <th>0</th>\n",
       "      <td>3</td>\n",
       "      <td>Apartment</td>\n",
       "      <td>685</td>\n",
       "      <td>Andheri West</td>\n",
       "      <td>Ready to move</td>\n",
       "      <td>New</td>\n",
       "      <td>250.00</td>\n",
       "    </tr>\n",
       "    <tr>\n",
       "      <th>1</th>\n",
       "      <td>2</td>\n",
       "      <td>Apartment</td>\n",
       "      <td>640</td>\n",
       "      <td>Naigaon East</td>\n",
       "      <td>Under Construction</td>\n",
       "      <td>New</td>\n",
       "      <td>52.51</td>\n",
       "    </tr>\n",
       "    <tr>\n",
       "      <th>2</th>\n",
       "      <td>2</td>\n",
       "      <td>Apartment</td>\n",
       "      <td>610</td>\n",
       "      <td>Borivali West</td>\n",
       "      <td>Under Construction</td>\n",
       "      <td>New</td>\n",
       "      <td>173.00</td>\n",
       "    </tr>\n",
       "    <tr>\n",
       "      <th>3</th>\n",
       "      <td>2</td>\n",
       "      <td>Apartment</td>\n",
       "      <td>876</td>\n",
       "      <td>Panvel</td>\n",
       "      <td>Under Construction</td>\n",
       "      <td>New</td>\n",
       "      <td>59.98</td>\n",
       "    </tr>\n",
       "    <tr>\n",
       "      <th>4</th>\n",
       "      <td>2</td>\n",
       "      <td>Apartment</td>\n",
       "      <td>659</td>\n",
       "      <td>Mira Road East</td>\n",
       "      <td>Under Construction</td>\n",
       "      <td>New</td>\n",
       "      <td>94.11</td>\n",
       "    </tr>\n",
       "  </tbody>\n",
       "</table>\n",
       "</div>"
      ],
      "text/plain": [
       "   bhk       type  area          region              status  age  \\\n",
       "0    3  Apartment   685    Andheri West       Ready to move  New   \n",
       "1    2  Apartment   640    Naigaon East  Under Construction  New   \n",
       "2    2  Apartment   610   Borivali West  Under Construction  New   \n",
       "3    2  Apartment   876          Panvel  Under Construction  New   \n",
       "4    2  Apartment   659  Mira Road East  Under Construction  New   \n",
       "\n",
       "   price_in_lakh  \n",
       "0         250.00  \n",
       "1          52.51  \n",
       "2         173.00  \n",
       "3          59.98  \n",
       "4          94.11  "
      ]
     },
     "execution_count": 25,
     "metadata": {},
     "output_type": "execute_result"
    }
   ],
   "source": [
    "df.head()"
   ]
  },
  {
   "cell_type": "code",
   "execution_count": 26,
   "metadata": {},
   "outputs": [
    {
     "data": {
      "text/plain": [
       "region\n",
       "Mira Road East         7781\n",
       "Thane West             7312\n",
       "Dombivali              2332\n",
       "Kandivali East         1893\n",
       "Kharghar               1856\n",
       "                       ... \n",
       "Adaigaon                  1\n",
       "Sector-4 New Panvel       1\n",
       "Pen                       1\n",
       "Sector 6 Kamothe          1\n",
       "L I C Colony              1\n",
       "Name: count, Length: 228, dtype: int64"
      ]
     },
     "execution_count": 26,
     "metadata": {},
     "output_type": "execute_result"
    }
   ],
   "source": [
    "df[\"region\"].value_counts()"
   ]
  },
  {
   "cell_type": "markdown",
   "metadata": {},
   "source": [
    "#### dataset contains many regions with very few occurrences so dropping rare regions"
   ]
  },
  {
   "cell_type": "code",
   "execution_count": 27,
   "metadata": {},
   "outputs": [],
   "source": [
    "threshold=25  #min 50 orrurences\n",
    "region_counts=df[\"region\"].value_counts()\n",
    "\n",
    "rare_regions=region_counts[region_counts <= threshold].index\n",
    "# print(rare_regions)\n",
    "df=df.drop(df[df[\"region\"].isin(rare_regions)].index)"
   ]
  },
  {
   "cell_type": "code",
   "execution_count": 28,
   "metadata": {},
   "outputs": [
    {
     "data": {
      "text/plain": [
       "region\n",
       "Mira Road East    7781\n",
       "Thane West        7312\n",
       "Dombivali         2332\n",
       "Kandivali East    1893\n",
       "Kharghar          1856\n",
       "                  ... \n",
       "Marine Lines        37\n",
       "Ulhasnagar          35\n",
       "Belapur             33\n",
       "Diva                28\n",
       "Colaba              26\n",
       "Name: count, Length: 97, dtype: int64"
      ]
     },
     "execution_count": 28,
     "metadata": {},
     "output_type": "execute_result"
    }
   ],
   "source": [
    "df[\"region\"].value_counts()"
   ]
  },
  {
   "cell_type": "code",
   "execution_count": 29,
   "metadata": {},
   "outputs": [
    {
     "data": {
      "text/plain": [
       "status\n",
       "Ready to move         32384\n",
       "Under Construction    22768\n",
       "Name: count, dtype: int64"
      ]
     },
     "execution_count": 29,
     "metadata": {},
     "output_type": "execute_result"
    }
   ],
   "source": [
    "df[\"status\"].value_counts()"
   ]
  },
  {
   "cell_type": "code",
   "execution_count": 30,
   "metadata": {},
   "outputs": [
    {
     "data": {
      "text/plain": [
       "age\n",
       "New        27449\n",
       "Resale     19295\n",
       "Unknown     8408\n",
       "Name: count, dtype: int64"
      ]
     },
     "execution_count": 30,
     "metadata": {},
     "output_type": "execute_result"
    }
   ],
   "source": [
    "df[\"age\"].value_counts()"
   ]
  },
  {
   "cell_type": "markdown",
   "metadata": {},
   "source": [
    "#### creating price per square feet column"
   ]
  },
  {
   "cell_type": "code",
   "execution_count": 31,
   "metadata": {},
   "outputs": [],
   "source": [
    "# df[\"price_per_sq_feet\"]=(df[\"price_in_lakh\"]*100000 )/df[\"area\"]"
   ]
  },
  {
   "cell_type": "code",
   "execution_count": 32,
   "metadata": {},
   "outputs": [
    {
     "data": {
      "text/html": [
       "<div>\n",
       "<style scoped>\n",
       "    .dataframe tbody tr th:only-of-type {\n",
       "        vertical-align: middle;\n",
       "    }\n",
       "\n",
       "    .dataframe tbody tr th {\n",
       "        vertical-align: top;\n",
       "    }\n",
       "\n",
       "    .dataframe thead th {\n",
       "        text-align: right;\n",
       "    }\n",
       "</style>\n",
       "<table border=\"1\" class=\"dataframe\">\n",
       "  <thead>\n",
       "    <tr style=\"text-align: right;\">\n",
       "      <th></th>\n",
       "      <th>bhk</th>\n",
       "      <th>type</th>\n",
       "      <th>area</th>\n",
       "      <th>region</th>\n",
       "      <th>status</th>\n",
       "      <th>age</th>\n",
       "      <th>price_in_lakh</th>\n",
       "    </tr>\n",
       "  </thead>\n",
       "  <tbody>\n",
       "    <tr>\n",
       "      <th>0</th>\n",
       "      <td>3</td>\n",
       "      <td>Apartment</td>\n",
       "      <td>685</td>\n",
       "      <td>Andheri West</td>\n",
       "      <td>Ready to move</td>\n",
       "      <td>New</td>\n",
       "      <td>250.00</td>\n",
       "    </tr>\n",
       "    <tr>\n",
       "      <th>1</th>\n",
       "      <td>2</td>\n",
       "      <td>Apartment</td>\n",
       "      <td>640</td>\n",
       "      <td>Naigaon East</td>\n",
       "      <td>Under Construction</td>\n",
       "      <td>New</td>\n",
       "      <td>52.51</td>\n",
       "    </tr>\n",
       "    <tr>\n",
       "      <th>2</th>\n",
       "      <td>2</td>\n",
       "      <td>Apartment</td>\n",
       "      <td>610</td>\n",
       "      <td>Borivali West</td>\n",
       "      <td>Under Construction</td>\n",
       "      <td>New</td>\n",
       "      <td>173.00</td>\n",
       "    </tr>\n",
       "    <tr>\n",
       "      <th>3</th>\n",
       "      <td>2</td>\n",
       "      <td>Apartment</td>\n",
       "      <td>876</td>\n",
       "      <td>Panvel</td>\n",
       "      <td>Under Construction</td>\n",
       "      <td>New</td>\n",
       "      <td>59.98</td>\n",
       "    </tr>\n",
       "    <tr>\n",
       "      <th>4</th>\n",
       "      <td>2</td>\n",
       "      <td>Apartment</td>\n",
       "      <td>659</td>\n",
       "      <td>Mira Road East</td>\n",
       "      <td>Under Construction</td>\n",
       "      <td>New</td>\n",
       "      <td>94.11</td>\n",
       "    </tr>\n",
       "  </tbody>\n",
       "</table>\n",
       "</div>"
      ],
      "text/plain": [
       "   bhk       type  area          region              status  age  \\\n",
       "0    3  Apartment   685    Andheri West       Ready to move  New   \n",
       "1    2  Apartment   640    Naigaon East  Under Construction  New   \n",
       "2    2  Apartment   610   Borivali West  Under Construction  New   \n",
       "3    2  Apartment   876          Panvel  Under Construction  New   \n",
       "4    2  Apartment   659  Mira Road East  Under Construction  New   \n",
       "\n",
       "   price_in_lakh  \n",
       "0         250.00  \n",
       "1          52.51  \n",
       "2         173.00  \n",
       "3          59.98  \n",
       "4          94.11  "
      ]
     },
     "execution_count": 32,
     "metadata": {},
     "output_type": "execute_result"
    }
   ],
   "source": [
    "df.head()"
   ]
  },
  {
   "cell_type": "code",
   "execution_count": 33,
   "metadata": {},
   "outputs": [
    {
     "data": {
      "text/plain": [
       "(55152, 7)"
      ]
     },
     "execution_count": 33,
     "metadata": {},
     "output_type": "execute_result"
    }
   ],
   "source": [
    "df.shape"
   ]
  },
  {
   "cell_type": "markdown",
   "metadata": {},
   "source": [
    "#### visualising the data"
   ]
  },
  {
   "cell_type": "code",
   "execution_count": 34,
   "metadata": {},
   "outputs": [
    {
     "name": "stderr",
     "output_type": "stream",
     "text": [
      "C:\\Users\\Arsh Ansari\\AppData\\Local\\Temp\\ipykernel_17704\\816563388.py:2: FutureWarning: \n",
      "\n",
      "Passing `palette` without assigning `hue` is deprecated and will be removed in v0.14.0. Assign the `x` variable to `hue` and set `legend=False` for the same effect.\n",
      "\n",
      "  sns.barplot(x=df[\"type\"],y=df[\"price_in_lakh\"],palette=\"viridis\",errorbar=None)\n"
     ]
    },
    {
     "data": {
      "text/plain": [
       "<Axes: xlabel='type', ylabel='price_in_lakh'>"
      ]
     },
     "execution_count": 34,
     "metadata": {},
     "output_type": "execute_result"
    },
    {
     "data": {
      "image/png": "[encoded data removed]",
      "text/plain": [
       "<Figure size 1000x600 with 1 Axes>"
      ]
     },
     "metadata": {},
     "output_type": "display_data"
    }
   ],
   "source": [
    "plt.figure(figsize=(10,6))\n",
    "sns.barplot(x=df[\"type\"],y=df[\"price_in_lakh\"],palette=\"viridis\",errorbar=None)"
   ]
  },
  {
   "cell_type": "code",
   "execution_count": 35,
   "metadata": {},
   "outputs": [
    {
     "name": "stderr",
     "output_type": "stream",
     "text": [
      "C:\\Users\\Arsh Ansari\\AppData\\Local\\Temp\\ipykernel_17704\\1723470446.py:3: FutureWarning: \n",
      "\n",
      "Passing `palette` without assigning `hue` is deprecated and will be removed in v0.14.0. Assign the `x` variable to `hue` and set `legend=False` for the same effect.\n",
      "\n",
      "  sns.barplot(x=df[\"age\"],y=df[\"price_in_lakh\"],errorbar=None,palette=\"viridis\")\n",
      "C:\\Users\\Arsh Ansari\\AppData\\Local\\Temp\\ipykernel_17704\\1723470446.py:5: FutureWarning: \n",
      "\n",
      "Passing `palette` without assigning `hue` is deprecated and will be removed in v0.14.0. Assign the `x` variable to `hue` and set `legend=False` for the same effect.\n",
      "\n",
      "  sns.barplot(x=df[\"status\"],y=df[\"price_in_lakh\"],errorbar=None,palette=\"viridis\")\n"
     ]
    },
    {
     "data": {
      "text/plain": [
       "<Axes: xlabel='status', ylabel='price_in_lakh'>"
      ]
     },
     "execution_count": 35,
     "metadata": {},
     "output_type": "execute_result"
    },
    {
     "data": {
      "image/png": "[encoded data removed]",
      "text/plain": [
       "<Figure size 1400x600 with 2 Axes>"
      ]
     },
     "metadata": {},
     "output_type": "display_data"
    }
   ],
   "source": [
    "plt.figure(figsize=(14,6))\n",
    "plt.subplot(121)\n",
    "sns.barplot(x=df[\"age\"],y=df[\"price_in_lakh\"],errorbar=None,palette=\"viridis\")\n",
    "plt.subplot(122)\n",
    "sns.barplot(x=df[\"status\"],y=df[\"price_in_lakh\"],errorbar=None,palette=\"viridis\")"
   ]
  },
  {
   "cell_type": "code",
   "execution_count": 36,
   "metadata": {},
   "outputs": [],
   "source": [
    "df.to_csv(\"../Datasets/cleaned_data.csv\",index=False)"
   ]
  },
  {
   "cell_type": "code",
   "execution_count": 37,
   "metadata": {},
   "outputs": [
    {
     "data": {
      "text/plain": [
       "Index(['bhk', 'type', 'area', 'region', 'status', 'age', 'price_in_lakh'], dtype='object')"
      ]
     },
     "execution_count": 37,
     "metadata": {},
     "output_type": "execute_result"
    }
   ],
   "source": [
    "df.columns"
   ]
  },
  {
   "cell_type": "code",
   "execution_count": null,
   "metadata": {},
   "outputs": [],
   "source": []
  }
 ],
 "metadata": {
  "kernelspec": {
   "display_name": "venv",
   "language": "python",
   "name": "python3"
  },
  "language_info": {
   "codemirror_mode": {
    "name": "ipython",
    "version": 3
   },
   "file_extension": ".py",
   "mimetype": "text/x-python",
   "name": "python",
   "nbconvert_exporter": "python",
   "pygments_lexer": "ipython3",
   "version": "3.12.1"
  }
 },
 "nbformat": 4,
 "nbformat_minor": 2
}
